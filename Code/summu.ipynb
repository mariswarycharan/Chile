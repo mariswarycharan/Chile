{
 "cells": [
  {
   "cell_type": "code",
   "execution_count": 20,
   "metadata": {},
   "outputs": [],
   "source": [
    "import requests\n",
    "from bs4 import BeautifulSoup\n",
    "import pandas as pd\n",
    "# Set up logging\n",
    "def price_check_verification(id,price_from_csv):\n",
    "    \n",
    "    payload = { 'api_key': '81716f65a1801a31bc95201daf29aaf4', 'url': f'http://www.mercadopublico.cl/PurchaseOrder/Modules/PO/DetailsPurchaseOrder.aspx?codigoOC={id}', }\n",
    "\n",
    "    # Get the webpage content\n",
    "    response = requests.get('https://api.scraperapi.com/',params=payload)\n",
    "\n",
    "    # Check if the request was successful\n",
    "    if response.status_code == 200:\n",
    "        # Parse the HTML content with BeautifulSoup\n",
    "        soup = BeautifulSoup(response.content, 'html.parser')\n",
    "\n",
    "        # Find the <span> tag with the specific id\n",
    "        price_span_list = []\n",
    "        \n",
    "        for i in range(2,50):\n",
    "            \n",
    "            id_string = f'gv_ctl0{str(i)}_lblTotal'\n",
    "            \n",
    "            price_span = soup.find('span', id=id_string)\n",
    "            \n",
    "            if price_span is None:\n",
    "                break\n",
    "\n",
    "            # Extract and process the text inside the <span> tag\n",
    "            if price_span:\n",
    "                price_text = price_span.text.strip()\n",
    "\n",
    "                # Check if the price is in UF\n",
    "                if \"UF\" in price_text:\n",
    "                    # Remove the \"UF\" prefix and any spaces\n",
    "                    price_number = price_text.replace('UF', '').strip()\n",
    "                else:\n",
    "                    # Remove the dollar symbol and any commas (if it were in CLP)\n",
    "                    price_number = price_text.replace('$', '').replace('.', '').replace(',', '.').strip()\n",
    "\n",
    "                # Correct the format for floating-point conversion\n",
    "                price_number = price_number.replace('.', '').replace(',', '.')\n",
    "\n",
    "                # Convert the price to a float\n",
    "                price_value = float(price_number)\n",
    "                \n",
    "                price_span_list.append(round(price_value,0))\n",
    "            \n",
    "        print(price_span_list)\n",
    "        \n",
    "        if round(price_from_csv) in price_span_list:\n",
    "            return True\n",
    "        else:\n",
    "            return False\n",
    "        \n",
    "    else:\n",
    "        return 0\n",
    "\n"
   ]
  },
  {
   "cell_type": "code",
   "execution_count": 11,
   "metadata": {},
   "outputs": [],
   "source": [
    "df = pd.read_csv(r'D:\\Roche\\Chili_Data_Acquisition\\Output\\2024.08.16_15.40.02_2024-1.csv',low_memory=False)"
   ]
  },
  {
   "cell_type": "code",
   "execution_count": 21,
   "metadata": {},
   "outputs": [
    {
     "name": "stdout",
     "output_type": "stream",
     "text": [
      "for 0 => Price check for 1186229-28-SE24 --> [74004713271.42]\n",
      "[74004713271.0]\n",
      "Price check passed for 1186229-28-SE24\n",
      "for 1 => Price check for 621-135-SE24 --> [24102000000.0]\n",
      "[24102000000.0]\n",
      "Price check passed for 621-135-SE24\n",
      "for 2 => Price check for 1057964-27-SE23 --> [21822336336.0]\n",
      "[21822336336.0]\n",
      "Price check passed for 1057964-27-SE23\n",
      "for 3 => Price check for 621-28-SE24 --> [18256932800.0]\n",
      "[18256932800.0]\n",
      "Price check passed for 621-28-SE24\n",
      "for 4 => Price check for 1186229-6-SE24 --> [15206130618.49]\n",
      "[15206130618.0]\n",
      "Price check passed for 1186229-6-SE24\n"
     ]
    }
   ],
   "source": [
    "df_sorted = df.sort_values(by=['totalLineaNeto'],ascending=False)\n",
    "\n",
    "for i in range(0,5):\n",
    "    val = df_sorted.iloc[i]\n",
    "    \n",
    "    print(f'for {i} => Price check for {val[\"Codigo\"]} --> {[val[\"totalLineaNeto\"]]}')\n",
    "    \n",
    "    \n",
    "    result_check = price_check_verification(val['Codigo'],val['totalLineaNeto'])\n",
    "    \n",
    "    if result_check == True:\n",
    "        print(f'Price check passed for {val[\"Codigo\"]}')    \n",
    "        \n",
    "    else:\n",
    "        print(f'Price check failed for {val[\"Codigo\"]}')"
   ]
  },
  {
   "cell_type": "code",
   "execution_count": 17,
   "metadata": {},
   "outputs": [
    {
     "name": "stdout",
     "output_type": "stream",
     "text": [
      "Equal\n"
     ]
    }
   ],
   "source": [
    "round(74004713271.42)\n",
    "if 74004713271 == 74004713271.00:\n",
    "    print('Equal')\n",
    "else:\n",
    "    print('Not equal')"
   ]
  },
  {
   "cell_type": "code",
   "execution_count": 1,
   "metadata": {},
   "outputs": [],
   "source": [
    "import pandas as pd\n",
    "l = 'https://docs.google.com/spreadsheets/d/1OA5OmibY3x9fmntzNtTDsb8u7mOJDYtErBhFB5kpLvo/edit?usp=sharing'\n",
    "sheet_id = '1OA5OmibY3x9fmntzNtTDsb8u7mOJDYtErBhFB5kpLvo'\n",
    "df = pd.read_csv(f\"https://docs.google.com/spreadsheets/d/{sheet_id}/export?format=csv\")"
   ]
  },
  {
   "cell_type": "code",
   "execution_count": null,
   "metadata": {},
   "outputs": [
    {
     "data": {
      "text/plain": [
       "['Sheet1']"
      ]
     },
     "execution_count": 6,
     "metadata": {},
     "output_type": "execute_result"
    }
   ],
   "source": [
    "df.sheet_names"
   ]
  },
  {
   "cell_type": "code",
   "execution_count": 2,
   "metadata": {},
   "outputs": [
    {
     "name": "stderr",
     "output_type": "stream",
     "text": [
      "C:\\Users\\Charan A A\\AppData\\Local\\Temp\\ipykernel_9356\\3896997032.py:3: DtypeWarning: Columns (21,31,73,74) have mixed types. Specify dtype option on import or set low_memory=False.\n",
      "  df = pd.read_csv(r'D:\\Roche\\Chili_Data_Acquisition\\Output\\2024.08.09__21.41.37__2024-1.csv.csv')\n"
     ]
    }
   ],
   "source": [
    "\n",
    "import pandas as pd\n",
    "\n",
    "df = pd.read_csv(r'D:\\Roche\\Chili_Data_Acquisition\\Output\\2024.08.09__21.41.37__2024-1.csv.csv')"
   ]
  },
  {
   "cell_type": "code",
   "execution_count": 4,
   "metadata": {},
   "outputs": [
    {
     "name": "stderr",
     "output_type": "stream",
     "text": [
      "C:\\Users\\Charan A A\\AppData\\Local\\Temp\\ipykernel_8768\\531401082.py:1: DtypeWarning: Columns (21,31,73,74) have mixed types. Specify dtype option on import or set low_memory=False.\n",
      "  df_new = pd.read_csv(r'D:\\Roche\\Chili_Data_Acquisition\\Output_2024_5.csv')\n"
     ]
    }
   ],
   "source": [
    "df_new = pd.read_csv(r'D:\\Roche\\Chili_Data_Acquisition\\Output_2024_5.csv')"
   ]
  },
  {
   "cell_type": "code",
   "execution_count": 9,
   "metadata": {},
   "outputs": [
    {
     "data": {
      "text/plain": [
       "(372257, 80)"
      ]
     },
     "execution_count": 9,
     "metadata": {},
     "output_type": "execute_result"
    }
   ],
   "source": [
    "df_new.shape"
   ]
  },
  {
   "cell_type": "code",
   "execution_count": 3,
   "metadata": {},
   "outputs": [
    {
     "data": {
      "text/plain": [
       "['Link', 'Month']"
      ]
     },
     "execution_count": 3,
     "metadata": {},
     "output_type": "execute_result"
    }
   ],
   "source": [
    "xls = pd.ExcelFile(r\"D:\\Roche\\Chili_Data_Acquisition\\Control\\Control_File.xlsx\")\n",
    "xls.sheet_names"
   ]
  },
  {
   "cell_type": "code",
   "execution_count": null,
   "metadata": {},
   "outputs": [],
   "source": []
  }
 ],
 "metadata": {
  "kernelspec": {
   "display_name": "Python 3",
   "language": "python",
   "name": "python3"
  },
  "language_info": {
   "codemirror_mode": {
    "name": "ipython",
    "version": 3
   },
   "file_extension": ".py",
   "mimetype": "text/x-python",
   "name": "python",
   "nbconvert_exporter": "python",
   "pygments_lexer": "ipython3",
   "version": "3.11.6"
  }
 },
 "nbformat": 4,
 "nbformat_minor": 2
}
