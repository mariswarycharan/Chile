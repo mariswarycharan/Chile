{
 "cells": [
  {
   "cell_type": "code",
   "execution_count": 21,
   "metadata": {},
   "outputs": [
    {
     "name": "stdout",
     "output_type": "stream",
     "text": [
      "i i 0\n",
      "s s 1\n",
      "s s 2\n",
      "i i 3\n",
      "s p 4\n",
      "s i 0\n",
      "i i 0\n",
      "p s 1\n",
      "p i 0\n",
      "i i 0\n",
      "[]\n",
      "-1\n"
     ]
    }
   ],
   "source": [
    "class Solution:\n",
    "    def strStr(self, haystack: str, needle: str) -> int:\n",
    "        \n",
    "        k = 0\n",
    "        r = []\n",
    "        for i in range(len(haystack)):\n",
    "            if haystack[i] in needle:\n",
    "                print(haystack[i] , needle[k] , k)\n",
    "                if haystack[i] == needle[k]:\n",
    "                    if k == len(needle) - 1:\n",
    "                        r.append(i - len(needle) + 1)\n",
    "                    k += 1\n",
    "                    if k == len(needle):\n",
    "                        k = 0\n",
    "\n",
    "                else:\n",
    "                    k = 0\n",
    "            else:\n",
    "                k = 0\n",
    "        print(r)\n",
    "        return r[0] if r else -1\n",
    "    \n",
    "# haystack = \"sadbutsad\"\n",
    "# needle = \"sad\"\n",
    "haystack = \"mississippi\"\n",
    "\n",
    "needle = \"issip\"\n",
    "\n",
    "r = Solution().strStr(haystack, needle)\n",
    "print(r)"
   ]
  },
  {
   "cell_type": "code",
   "execution_count": 26,
   "metadata": {},
   "outputs": [
    {
     "name": "stdout",
     "output_type": "stream",
     "text": [
      "['flowyuv', 'flow', 'floight']\n",
      "flo\n"
     ]
    }
   ],
   "source": [
    "def longest_common_prefix(strs):\n",
    "    # If the list is empty, return \"-1\"\n",
    "    if not strs:\n",
    "        return \"-1\"\n",
    "\n",
    "    # Sort the list of strings\n",
    "    # strs.sort()\n",
    "    print(strs)\n",
    "\n",
    "    # Get the first and last strings after sorting\n",
    "    first = strs[0]\n",
    "    last = strs[-1]\n",
    "\n",
    "    min_length = min(len(first), len(last))\n",
    "\n",
    "    # Initialize an empty result for storing the common prefix\n",
    "    common_prefix = \"\"\n",
    "\n",
    "    # Iterate over the characters of the first and last strings\n",
    "    for i in range(min_length):\n",
    "        if first[i] == last[i]:\n",
    "            common_prefix += first[i]\n",
    "        else:\n",
    "            break\n",
    "\n",
    "    return common_prefix if common_prefix else \"-1\"\n",
    "\n",
    "# Example usage\n",
    "strs = [\"flowyuv\", \"flow\", \"floight\"]\n",
    "result = longest_common_prefix(strs)\n",
    "print(result)  # Output: \"fl\"\n"
   ]
  },
  {
   "cell_type": "code",
   "execution_count": 28,
   "metadata": {},
   "outputs": [
    {
     "name": "stdout",
     "output_type": "stream",
     "text": [
      "Columns are not in the same order\n"
     ]
    }
   ],
   "source": [
    "import pandas as pd\n",
    "\n",
    "# Load CSV files\n",
    "df1 = pd.read_csv(r'D:\\Roche\\Chili_Data_Acquisition\\April_Bulk_Presentacion.csv')\n",
    "df2 = pd.read_csv(r'D:\\Roche\\Chili_Data_Acquisition\\April_Bulk_Presentacion_1.csv')\n",
    "\n",
    "# Ensure columns are in the same orde\n",
    "l1 = list(df1.columns)\n",
    "l2 = list(df2.columns)\n",
    "\n",
    "l1.sort()\n",
    "l2.sort()\n",
    "\n",
    "if l1 == l2:\n",
    "    print('Columns are in the same order')\n",
    "else:\n",
    "    print('Columns are not in the same order')\n",
    "    "
   ]
  },
  {
   "cell_type": "code",
   "execution_count": 13,
   "metadata": {},
   "outputs": [
    {
     "data": {
      "text/plain": [
       "(' ', 0)"
      ]
     },
     "execution_count": 13,
     "metadata": {},
     "output_type": "execute_result"
    }
   ],
   "source": [
    "from fuzzywuzzy import fuzz\n",
    "from fuzzywuzzy import process\n",
    "\n",
    "r = process.extractOne(\"The quick brown fox jumps over the lazy dog\", [\" \", \" \"])\n",
    "\n",
    "r"
   ]
  },
  {
   "cell_type": "code",
   "execution_count": 13,
   "metadata": {},
   "outputs": [
    {
     "name": "stdout",
     "output_type": "stream",
     "text": [
      "The created heap is :  [-10, 1, 7, 2, 9, 45, 61, 4, 3]\n",
      "The popped element is :  [1, 2, 7, 3, 9, 45, 61, 4]\n",
      "The pushed and popped element is :  [2, 3, 7, 4, 9, 45, 61, 10]\n"
     ]
    }
   ],
   "source": [
    "# importing \"heapq\" to implement heap queue\n",
    "import heapq\n",
    "\n",
    "# initializing list\n",
    "li = [2,3,7,1,9,45,61,4]\n",
    "\n",
    "# using heapify to convert list into heap\n",
    "heapq.heapify(li)\n",
    "\n",
    "heapq.heappush(li,-10)\n",
    "\n",
    "# printing created heap\n",
    "print (\"The created heap is : \",(list(li)))\n",
    "heapq.heappop(li)\n",
    "\n",
    "# printing popped element\n",
    "print (\"The popped element is : \",li)\n",
    "\n",
    "heapq.heappushpop(li,10)\n",
    "\n",
    "# printing pushed and popped element\n",
    "print (\"The pushed and popped element is : \",li)"
   ]
  },
  {
   "cell_type": "code",
   "execution_count": 1,
   "metadata": {},
   "outputs": [],
   "source": [
    "import boto3\n",
    "from botocore.exceptions import NoCredentialsError\n",
    "\n",
    "def save_csv_to_s3(file_path, bucket_name, s3_file_name, aws_access_key_id, aws_secret_access_key):\n",
    "    s3 = boto3.client('s3',\n",
    "                      aws_access_key_id=aws_access_key_id,\n",
    "                      aws_secret_access_key=aws_secret_access_key)\n",
    "    try:\n",
    "        s3.upload_file(file_path, bucket_name, s3_file_name)\n",
    "        # logging.info(f\"File {file_path} successfully uploaded to {bucket_name}/{s3_file_name}\")\n",
    "        return True\n",
    "    except FileNotFoundError:\n",
    "        # logging.error(f\"The file {file_path} was not found\")\n",
    "        return False\n",
    "    except NoCredentialsError:\n",
    "        # logging.error(\"Credentials not available\")\n",
    "        return False\n",
    "\n",
    "# Example usage\n",
    "file_path = r\"D:\\Roche\\Chili_Data_Acquisition\\results.csv\"\n",
    "bucket_name = \"cmg-oasis-dev-gdco-poc\"\n",
    "s3_file_name = \"results.csv\"\n",
    "aws_access_key_id = \"your-access-key-id\"\n",
    "aws_secret_access_key = \"your-secret-access-key\"\n",
    "\n",
    "save_csv_to_s3(file_path, bucket_name, s3_file_name, aws_access_key_id, aws_secret_access_key)\n"
   ]
  },
  {
   "cell_type": "code",
   "execution_count": 4,
   "metadata": {},
   "outputs": [],
   "source": [
    "import pandas as pd\n",
    "\n",
    "df_s = pd.read_csv(r\"D:\\Roche\\Chili_Data_Acquisition\\results.csv\")"
   ]
  },
  {
   "cell_type": "code",
   "execution_count": null,
   "metadata": {},
   "outputs": [],
   "source": [
    "save_csv_to_s3(df_s,)"
   ]
  },
  {
   "cell_type": "code",
   "execution_count": 20,
   "metadata": {},
   "outputs": [],
   "source": [
    "import requests\n",
    "from bs4 import BeautifulSoup\n",
    "import pandas as pd\n",
    "# Set up logging\n",
    "def price_check_verification(id,price_from_csv):\n",
    "    \n",
    "    payload = { 'api_key': '81716f65a1801a31bc95201daf29aaf4', 'url': f'http://www.mercadopublico.cl/PurchaseOrder/Modules/PO/DetailsPurchaseOrder.aspx?codigoOC={id}', }\n",
    "\n",
    "    # Get the webpage content\n",
    "    response = requests.get('https://api.scraperapi.com/',params=payload)\n",
    "\n",
    "    # Check if the request was successful\n",
    "    if response.status_code == 200:\n",
    "        # Parse the HTML content with BeautifulSoup\n",
    "        soup = BeautifulSoup(response.content, 'html.parser')\n",
    "\n",
    "        # Find the <span> tag with the specific id\n",
    "        price_span_list = []\n",
    "        \n",
    "        for i in range(2,50):\n",
    "            \n",
    "            id_string = f'gv_ctl0{str(i)}_lblTotal'\n",
    "            \n",
    "            price_span = soup.find('span', id=id_string)\n",
    "            \n",
    "            if price_span is None:\n",
    "                break\n",
    "\n",
    "            # Extract and process the text inside the <span> tag\n",
    "            if price_span:\n",
    "                price_text = price_span.text.strip()\n",
    "\n",
    "                # Check if the price is in UF\n",
    "                if \"UF\" in price_text:\n",
    "                    # Remove the \"UF\" prefix and any spaces\n",
    "                    price_number = price_text.replace('UF', '').strip()\n",
    "                else:\n",
    "                    # Remove the dollar symbol and any commas (if it were in CLP)\n",
    "                    price_number = price_text.replace('$', '').replace('.', '').replace(',', '.').strip()\n",
    "\n",
    "                # Correct the format for floating-point conversion\n",
    "                price_number = price_number.replace('.', '').replace(',', '.')\n",
    "\n",
    "                # Convert the price to a float\n",
    "                price_value = float(price_number)\n",
    "                \n",
    "                price_span_list.append(round(price_value,0))\n",
    "            \n",
    "        print(price_span_list)\n",
    "        \n",
    "        if round(price_from_csv) in price_span_list:\n",
    "            return True\n",
    "        else:\n",
    "            return False\n",
    "        \n",
    "    else:\n",
    "        return 0\n",
    "\n"
   ]
  },
  {
   "cell_type": "code",
   "execution_count": 11,
   "metadata": {},
   "outputs": [],
   "source": [
    "df = pd.read_csv(r'D:\\Roche\\Chili_Data_Acquisition\\Output\\2024.08.16_15.40.02_2024-1.csv',low_memory=False)"
   ]
  },
  {
   "cell_type": "code",
   "execution_count": 21,
   "metadata": {},
   "outputs": [
    {
     "name": "stdout",
     "output_type": "stream",
     "text": [
      "for 0 => Price check for 1186229-28-SE24 --> [74004713271.42]\n",
      "[74004713271.0]\n",
      "Price check passed for 1186229-28-SE24\n",
      "for 1 => Price check for 621-135-SE24 --> [24102000000.0]\n",
      "[24102000000.0]\n",
      "Price check passed for 621-135-SE24\n",
      "for 2 => Price check for 1057964-27-SE23 --> [21822336336.0]\n",
      "[21822336336.0]\n",
      "Price check passed for 1057964-27-SE23\n",
      "for 3 => Price check for 621-28-SE24 --> [18256932800.0]\n",
      "[18256932800.0]\n",
      "Price check passed for 621-28-SE24\n",
      "for 4 => Price check for 1186229-6-SE24 --> [15206130618.49]\n",
      "[15206130618.0]\n",
      "Price check passed for 1186229-6-SE24\n"
     ]
    }
   ],
   "source": [
    "df_sorted = df.sort_values(by=['totalLineaNeto'],ascending=False)\n",
    "\n",
    "for i in range(0,5):\n",
    "    val = df_sorted.iloc[i]\n",
    "    \n",
    "    print(f'for {i} => Price check for {val[\"Codigo\"]} --> {[val[\"totalLineaNeto\"]]}')\n",
    "    \n",
    "    \n",
    "    result_check = price_check_verification(val['Codigo'],val['totalLineaNeto'])\n",
    "    \n",
    "    if result_check == True:\n",
    "        print(f'Price check passed for {val[\"Codigo\"]}')    \n",
    "        \n",
    "    else:\n",
    "        print(f'Price check failed for {val[\"Codigo\"]}')"
   ]
  }
 ],
 "metadata": {
  "kernelspec": {
   "display_name": "Python 3",
   "language": "python",
   "name": "python3"
  },
  "language_info": {
   "codemirror_mode": {
    "name": "ipython",
    "version": 3
   },
   "file_extension": ".py",
   "mimetype": "text/x-python",
   "name": "python",
   "nbconvert_exporter": "python",
   "pygments_lexer": "ipython3",
   "version": "3.11.6"
  }
 },
 "nbformat": 4,
 "nbformat_minor": 2
}
