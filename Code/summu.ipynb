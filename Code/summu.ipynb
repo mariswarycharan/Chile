{
 "cells": [
  {
   "cell_type": "code",
   "execution_count": 20,
   "metadata": {},
   "outputs": [],
   "source": [
    "import requests\n",
    "from bs4 import BeautifulSoup\n",
    "import pandas as pd\n",
    "# Set up logging\n",
    "def price_check_verification(id,price_from_csv):\n",
    "    \n",
    "    payload = { 'api_key': '81716f65a1801a31bc95201daf29aaf4', 'url': f'http://www.mercadopublico.cl/PurchaseOrder/Modules/PO/DetailsPurchaseOrder.aspx?codigoOC={id}', }\n",
    "\n",
    "    # Get the webpage content\n",
    "    response = requests.get('https://api.scraperapi.com/',params=payload)\n",
    "\n",
    "    # Check if the request was successful\n",
    "    if response.status_code == 200:\n",
    "        # Parse the HTML content with BeautifulSoup\n",
    "        soup = BeautifulSoup(response.content, 'html.parser')\n",
    "\n",
    "        # Find the <span> tag with the specific id\n",
    "        price_span_list = []\n",
    "        \n",
    "        for i in range(2,50):\n",
    "            \n",
    "            id_string = f'gv_ctl0{str(i)}_lblTotal'\n",
    "            \n",
    "            price_span = soup.find('span', id=id_string)\n",
    "            \n",
    "            if price_span is None:\n",
    "                break\n",
    "\n",
    "            # Extract and process the text inside the <span> tag\n",
    "            if price_span:\n",
    "                price_text = price_span.text.strip()\n",
    "\n",
    "                # Check if the price is in UF\n",
    "                if \"UF\" in price_text:\n",
    "                    # Remove the \"UF\" prefix and any spaces\n",
    "                    price_number = price_text.replace('UF', '').strip()\n",
    "                else:\n",
    "                    # Remove the dollar symbol and any commas (if it were in CLP)\n",
    "                    price_number = price_text.replace('$', '').replace('.', '').replace(',', '.').strip()\n",
    "\n",
    "                # Correct the format for floating-point conversion\n",
    "                price_number = price_number.replace('.', '').replace(',', '.')\n",
    "\n",
    "                # Convert the price to a float\n",
    "                price_value = float(price_number)\n",
    "                \n",
    "                price_span_list.append(round(price_value,0))\n",
    "            \n",
    "        print(price_span_list)\n",
    "        \n",
    "        if round(price_from_csv) in price_span_list:\n",
    "            return True\n",
    "        else:\n",
    "            return False\n",
    "        \n",
    "    else:\n",
    "        return 0\n",
    "\n"
   ]
  },
  {
   "cell_type": "code",
   "execution_count": 11,
   "metadata": {},
   "outputs": [],
   "source": [
    "df = pd.read_csv(r'D:\\Roche\\Chili_Data_Acquisition\\Output\\2024.08.16_15.40.02_2024-1.csv',low_memory=False)"
   ]
  },
  {
   "cell_type": "code",
   "execution_count": 21,
   "metadata": {},
   "outputs": [
    {
     "name": "stdout",
     "output_type": "stream",
     "text": [
      "for 0 => Price check for 1186229-28-SE24 --> [74004713271.42]\n",
      "[74004713271.0]\n",
      "Price check passed for 1186229-28-SE24\n",
      "for 1 => Price check for 621-135-SE24 --> [24102000000.0]\n",
      "[24102000000.0]\n",
      "Price check passed for 621-135-SE24\n",
      "for 2 => Price check for 1057964-27-SE23 --> [21822336336.0]\n",
      "[21822336336.0]\n",
      "Price check passed for 1057964-27-SE23\n",
      "for 3 => Price check for 621-28-SE24 --> [18256932800.0]\n",
      "[18256932800.0]\n",
      "Price check passed for 621-28-SE24\n",
      "for 4 => Price check for 1186229-6-SE24 --> [15206130618.49]\n",
      "[15206130618.0]\n",
      "Price check passed for 1186229-6-SE24\n"
     ]
    }
   ],
   "source": [
    "df_sorted = df.sort_values(by=['totalLineaNeto'],ascending=False)\n",
    "\n",
    "for i in range(0,5):\n",
    "    val = df_sorted.iloc[i]\n",
    "    \n",
    "    print(f'for {i} => Price check for {val[\"Codigo\"]} --> {[val[\"totalLineaNeto\"]]}')\n",
    "    \n",
    "    \n",
    "    result_check = price_check_verification(val['Codigo'],val['totalLineaNeto'])\n",
    "    \n",
    "    if result_check == True:\n",
    "        print(f'Price check passed for {val[\"Codigo\"]}')    \n",
    "        \n",
    "    else:\n",
    "        print(f'Price check failed for {val[\"Codigo\"]}')"
   ]
  },
  {
   "cell_type": "code",
   "execution_count": 17,
   "metadata": {},
   "outputs": [
    {
     "name": "stdout",
     "output_type": "stream",
     "text": [
      "Equal\n"
     ]
    }
   ],
   "source": [
    "round(74004713271.42)\n",
    "if 74004713271 == 74004713271.00:\n",
    "    print('Equal')\n",
    "else:\n",
    "    print('Not equal')"
   ]
  },
  {
   "cell_type": "code",
   "execution_count": 1,
   "metadata": {},
   "outputs": [],
   "source": [
    "import pandas as pd\n",
    "l = 'https://docs.google.com/spreadsheets/d/1OA5OmibY3x9fmntzNtTDsb8u7mOJDYtErBhFB5kpLvo/edit?usp=sharing'\n",
    "sheet_id = '1OA5OmibY3x9fmntzNtTDsb8u7mOJDYtErBhFB5kpLvo'\n",
    "df = pd.read_csv(f\"https://docs.google.com/spreadsheets/d/{sheet_id}/export?format=csv\")"
   ]
  },
  {
   "cell_type": "code",
   "execution_count": null,
   "metadata": {},
   "outputs": [
    {
     "data": {
      "text/plain": [
       "['Sheet1']"
      ]
     },
     "execution_count": 6,
     "metadata": {},
     "output_type": "execute_result"
    }
   ],
   "source": [
    "df.sheet_names"
   ]
  },
  {
   "cell_type": "code",
   "execution_count": 2,
   "metadata": {},
   "outputs": [
    {
     "name": "stderr",
     "output_type": "stream",
     "text": [
      "C:\\Users\\Charan A A\\AppData\\Local\\Temp\\ipykernel_9356\\3896997032.py:3: DtypeWarning: Columns (21,31,73,74) have mixed types. Specify dtype option on import or set low_memory=False.\n",
      "  df = pd.read_csv(r'D:\\Roche\\Chili_Data_Acquisition\\Output\\2024.08.09__21.41.37__2024-1.csv.csv')\n"
     ]
    }
   ],
   "source": [
    "\n",
    "import pandas as pd\n",
    "\n",
    "df = pd.read_csv(r'D:\\Roche\\Chili_Data_Acquisition\\Output\\2024.08.09__21.41.37__2024-1.csv.csv')"
   ]
  },
  {
   "cell_type": "code",
   "execution_count": 4,
   "metadata": {},
   "outputs": [
    {
     "name": "stderr",
     "output_type": "stream",
     "text": [
      "C:\\Users\\Charan A A\\AppData\\Local\\Temp\\ipykernel_8768\\531401082.py:1: DtypeWarning: Columns (21,31,73,74) have mixed types. Specify dtype option on import or set low_memory=False.\n",
      "  df_new = pd.read_csv(r'D:\\Roche\\Chili_Data_Acquisition\\Output_2024_5.csv')\n"
     ]
    }
   ],
   "source": [
    "df_new = pd.read_csv(r'D:\\Roche\\Chili_Data_Acquisition\\Output_2024_5.csv')"
   ]
  },
  {
   "cell_type": "code",
   "execution_count": 9,
   "metadata": {},
   "outputs": [
    {
     "data": {
      "text/plain": [
       "(372257, 80)"
      ]
     },
     "execution_count": 9,
     "metadata": {},
     "output_type": "execute_result"
    }
   ],
   "source": [
    "df_new.shape"
   ]
  },
  {
   "cell_type": "code",
   "execution_count": 3,
   "metadata": {},
   "outputs": [
    {
     "data": {
      "text/plain": [
       "['Link', 'Month']"
      ]
     },
     "execution_count": 3,
     "metadata": {},
     "output_type": "execute_result"
    }
   ],
   "source": [
    "xls = pd.ExcelFile(r\"D:\\Roche\\Chili_Data_Acquisition\\Control\\Control_File.xlsx\")\n",
    "xls.sheet_names"
   ]
  },
  {
   "cell_type": "code",
   "execution_count": 20,
   "metadata": {},
   "outputs": [],
   "source": [
    "# arr = [39, 12, 18, 85, 72, 10, 2, 18]\n",
    "# c = True\n",
    "# while True:\n",
    "#     for i in range(0,len(arr)-1):\n",
    "#         if arr[i] > arr[i+1]:\n",
    "#             arr[i], arr[i+1] = arr[i+1], arr[i]\n",
    "#             c = False\n",
    "#     if c:\n",
    "#         break\n",
    "#     else:\n",
    "#         c = True\n",
    "\n",
    "# print(arr)\n",
    "    "
   ]
  },
  {
   "cell_type": "code",
   "execution_count": 34,
   "metadata": {},
   "outputs": [
    {
     "name": "stdout",
     "output_type": "stream",
     "text": [
      "[-202, -97, -9, -2, 0, 11, 11, 11, 11, 11, 45, 88, 747]\n"
     ]
    }
   ],
   "source": [
    "arr = [11,-202, -97, -9, -2, 0, 11,11,11, 45, 88, 747,11]\n",
    "\n",
    "minx = 0\n",
    "for i in range(0,len(arr)-1):\n",
    "    minx = i\n",
    "    for j in range(i+1,len(arr)):\n",
    "        if arr[minx] > arr[j]:\n",
    "            minx = j\n",
    "    arr[minx] , arr[i] = arr[i] , arr[minx]\n",
    "print(arr)\n",
    "    "
   ]
  },
  {
   "cell_type": "code",
   "execution_count": 94,
   "metadata": {},
   "outputs": [
    {
     "name": "stdout",
     "output_type": "stream",
     "text": [
      "[-202, -97, -9, -2, 0, 11, 11, 11, 11, 11, 45, 88, 747]\n"
     ]
    }
   ],
   "source": [
    "arr = [-202, -97, -9, -2, 0, 11, 11, 11, 11, 11, 45, 88, 747]\n",
    "\n",
    "\n",
    "for i in range(1,len(arr)):\n",
    "    cur = arr[i]\n",
    "    j = i-1\n",
    "    while j >= 0 and cur < arr[j]:\n",
    "\n",
    "        arr[j], arr[j+1] = arr[j+1], arr[j]\n",
    "        j -= 1\n",
    "            \n",
    "print(arr)\n"
   ]
  },
  {
   "cell_type": "code",
   "execution_count": 88,
   "metadata": {},
   "outputs": [
    {
     "name": "stdout",
     "output_type": "stream",
     "text": [
      "[-202, -97, -9, -2, 0, 11, 11, 11, 11, 11, 45, 88, 747]\n"
     ]
    }
   ],
   "source": [
    "arr = [-202, -97, -9, -2, 0, 11, 11, 11, 11, 11, 45, 88, 747]\n",
    "\n",
    "for i in range(1, len(arr)):\n",
    "    cur = arr[i]\n",
    "    j = i - 1\n",
    "    while j >= 0 and arr[j] > cur:\n",
    "        arr[j + 1] = arr[j]\n",
    "        j -= 1\n",
    "    arr[j + 1] = cur\n",
    "\n",
    "print(arr)\n"
   ]
  },
  {
   "cell_type": "code",
   "execution_count": 108,
   "metadata": {},
   "outputs": [
    {
     "data": {
      "text/plain": [
       "[1, 2, 3, 5, 6, 7, 9]"
      ]
     },
     "execution_count": 108,
     "metadata": {},
     "output_type": "execute_result"
    }
   ],
   "source": [
    "arr = [3,2,5,7,9,1,6]\n",
    "import random\n",
    "\n",
    "def quit_sort(arr):\n",
    "    if len(arr) <= 1:\n",
    "        return arr\n",
    "    \n",
    "    pivot = random.choice(arr)\n",
    "\n",
    "    left = []\n",
    "    middle = []\n",
    "    right = []\n",
    "    for i in range(len(arr)):\n",
    "        if arr[i] < pivot:\n",
    "            left.append(arr[i])\n",
    "        elif arr[i] == pivot:\n",
    "            middle.append(arr[i])\n",
    "        else:\n",
    "            right.append(arr[i])\n",
    "            \n",
    "    return quit_sort(left) + middle + quit_sort(right)\n",
    "\n",
    "arr = [3,2,5,7,9,1,6]\n",
    "quit_sort(arr)\n",
    "\n",
    "\n",
    "\n",
    "\n"
   ]
  },
  {
   "cell_type": "code",
   "execution_count": 14,
   "metadata": {},
   "outputs": [
    {
     "name": "stdout",
     "output_type": "stream",
     "text": [
      "Final [3]\n",
      "Final [2]\n",
      "Left [3]\n",
      "Right [2]\n",
      "Final [2, 3]\n",
      "Final [8]\n",
      "Final [1]\n",
      "Left [8]\n",
      "Right [1]\n",
      "Final [1, 8]\n",
      "Left [2, 3]\n",
      "Right [1, 8]\n",
      "Final [1, 2, 3, 8]\n"
     ]
    }
   ],
   "source": [
    "def Mergesort(array):\n",
    "\n",
    "    if len(array)>1:\n",
    "        middle = len(array)//2\n",
    "        left = array[:middle]\n",
    "        right = array[middle:]\n",
    "        \n",
    "        Mergesort(left)\n",
    "        Mergesort(right)\n",
    "        \n",
    "        \n",
    "        lp = 0\n",
    "        rp = 0\n",
    "        fp = 0\n",
    "        \n",
    "        while (lp < len(left)) and (rp < len(right)):\n",
    "            if left[lp] < right[rp]:\n",
    "                array[fp] = left[lp]\n",
    "                lp += 1\n",
    "            else:\n",
    "                array[fp] = right[rp]\n",
    "                rp += 1\n",
    "            fp += 1\n",
    "            \n",
    "        while (lp < len(left)):\n",
    "            array[fp] = left[lp]\n",
    "            fp += 1\n",
    "            lp += 1\n",
    "            \n",
    "        while (rp < len(right)):\n",
    "            array[fp] = right[rp]\n",
    "            fp += 1\n",
    "            rp += 1\n",
    "            \n",
    "        print(\"Left\", left)\n",
    "        print(\"Right\", right)\n",
    "    \n",
    "    print(\"Final\", array)\n",
    "        \n",
    "        \n",
    "array = [3,2,8,1]\n",
    "Mergesort(array)"
   ]
  },
  {
   "cell_type": "code",
   "execution_count": null,
   "metadata": {},
   "outputs": [],
   "source": []
  },
  {
   "cell_type": "code",
   "execution_count": null,
   "metadata": {},
   "outputs": [],
   "source": []
  }
 ],
 "metadata": {
  "kernelspec": {
   "display_name": "Python 3",
   "language": "python",
   "name": "python3"
  },
  "language_info": {
   "codemirror_mode": {
    "name": "ipython",
    "version": 3
   },
   "file_extension": ".py",
   "mimetype": "text/x-python",
   "name": "python",
   "nbconvert_exporter": "python",
   "pygments_lexer": "ipython3",
   "version": "3.11.6"
  }
 },
 "nbformat": 4,
 "nbformat_minor": 2
}
