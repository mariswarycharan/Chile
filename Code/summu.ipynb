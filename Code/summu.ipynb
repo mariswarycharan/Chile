{
 "cells": [
  {
   "cell_type": "code",
   "execution_count": 1,
   "metadata": {},
   "outputs": [],
   "source": [
    "import pandas as pd\n",
    "l = 'https://docs.google.com/spreadsheets/d/1OA5OmibY3x9fmntzNtTDsb8u7mOJDYtErBhFB5kpLvo/edit?usp=sharing'\n",
    "sheet_id = '1OA5OmibY3x9fmntzNtTDsb8u7mOJDYtErBhFB5kpLvo'\n",
    "df = pd.read_csv(f\"https://docs.google.com/spreadsheets/d/{sheet_id}/export?format=csv\")"
   ]
  },
  {
   "cell_type": "code",
   "execution_count": null,
   "metadata": {},
   "outputs": [
    {
     "data": {
      "text/plain": [
       "['Sheet1']"
      ]
     },
     "execution_count": 6,
     "metadata": {},
     "output_type": "execute_result"
    }
   ],
   "source": [
    "df.sheet_names"
   ]
  },
  {
   "cell_type": "code",
   "execution_count": 2,
   "metadata": {},
   "outputs": [
    {
     "name": "stderr",
     "output_type": "stream",
     "text": [
      "C:\\Users\\Charan A A\\AppData\\Local\\Temp\\ipykernel_9356\\3896997032.py:3: DtypeWarning: Columns (21,31,73,74) have mixed types. Specify dtype option on import or set low_memory=False.\n",
      "  df = pd.read_csv(r'D:\\Roche\\Chili_Data_Acquisition\\Output\\2024.08.09__21.41.37__2024-1.csv.csv')\n"
     ]
    }
   ],
   "source": [
    "\n",
    "import pandas as pd\n",
    "\n",
    "df = pd.read_csv(r'D:\\Roche\\Chili_Data_Acquisition\\Output\\2024.08.09__21.41.37__2024-1.csv.csv')"
   ]
  },
  {
   "cell_type": "code",
   "execution_count": 4,
   "metadata": {},
   "outputs": [
    {
     "name": "stderr",
     "output_type": "stream",
     "text": [
      "C:\\Users\\Charan A A\\AppData\\Local\\Temp\\ipykernel_8768\\531401082.py:1: DtypeWarning: Columns (21,31,73,74) have mixed types. Specify dtype option on import or set low_memory=False.\n",
      "  df_new = pd.read_csv(r'D:\\Roche\\Chili_Data_Acquisition\\Output_2024_5.csv')\n"
     ]
    }
   ],
   "source": [
    "df_new = pd.read_csv(r'D:\\Roche\\Chili_Data_Acquisition\\Output_2024_5.csv')"
   ]
  },
  {
   "cell_type": "code",
   "execution_count": 9,
   "metadata": {},
   "outputs": [
    {
     "data": {
      "text/plain": [
       "(372257, 80)"
      ]
     },
     "execution_count": 9,
     "metadata": {},
     "output_type": "execute_result"
    }
   ],
   "source": [
    "df_new.shape"
   ]
  },
  {
   "cell_type": "code",
   "execution_count": 3,
   "metadata": {},
   "outputs": [
    {
     "data": {
      "text/plain": [
       "['Link', 'Month']"
      ]
     },
     "execution_count": 3,
     "metadata": {},
     "output_type": "execute_result"
    }
   ],
   "source": [
    "xls = pd.ExcelFile(r\"D:\\Roche\\Chili_Data_Acquisition\\Control\\Control_File.xlsx\")\n",
    "xls.sheet_names"
   ]
  },
  {
   "cell_type": "code",
   "execution_count": null,
   "metadata": {},
   "outputs": [],
   "source": []
  }
 ],
 "metadata": {
  "kernelspec": {
   "display_name": "Python 3",
   "language": "python",
   "name": "python3"
  },
  "language_info": {
   "codemirror_mode": {
    "name": "ipython",
    "version": 3
   },
   "file_extension": ".py",
   "mimetype": "text/x-python",
   "name": "python",
   "nbconvert_exporter": "python",
   "pygments_lexer": "ipython3",
   "version": "3.11.6"
  }
 },
 "nbformat": 4,
 "nbformat_minor": 2
}
